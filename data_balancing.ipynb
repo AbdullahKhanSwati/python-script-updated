{
 "cells": [
  {
   "cell_type": "code",
   "execution_count": null,
   "id": "440cd43b-0f63-4e9a-a339-2ad7561f4a3e",
   "metadata": {},
   "outputs": [],
   "source": [
    "import os\n",
    "import random\n",
    "from shutil import copyfile\n",
    "from tensorflow.keras.preprocessing.image import ImageDataGenerator, load_img, img_to_array\n"
   ]
  },
  {
   "cell_type": "code",
   "execution_count": null,
   "id": "ee2109df-df2e-49b1-9b76-cb7468cd74a9",
   "metadata": {},
   "outputs": [],
   "source": [
    "# Set the paths to the original and augmented data directories\n",
    "data_dir = 'dataset'\n",
    "original_fake_dir = os.path.join(data_dir, '1')\n",
    "original_real_dir = os.path.join(data_dir, '2')\n",
    "augmented_fake_dir = os.path.join(data_dir, 'augmented_fake')\n",
    "augmented_real_dir = os.path.join(data_dir, 'augmented_real')\n"
   ]
  },
  {
   "cell_type": "code",
   "execution_count": null,
   "id": "692ceefd-c92d-4220-a5c7-df0beb7ea2da",
   "metadata": {},
   "outputs": [],
   "source": [
    "# Create directories for augmented data if they don't exist\n",
    "os.makedirs(augmented_fake_dir, exist_ok=True)\n",
    "os.makedirs(augmented_real_dir, exist_ok=True)\n"
   ]
  },
  {
   "cell_type": "code",
   "execution_count": null,
   "id": "6fb93552-029c-47f7-b222-1d70737bfff0",
   "metadata": {},
   "outputs": [],
   "source": [
    "# Count the number of images in each class\n",
    "num_fake_images = len(os.listdir(original_fake_dir))\n",
    "num_real_images = len(os.listdir(original_real_dir))\n"
   ]
  },
  {
   "cell_type": "code",
   "execution_count": null,
   "id": "01671a7e-9901-4577-b4c4-fba1fe5b1580",
   "metadata": {},
   "outputs": [],
   "source": [
    "# Calculate the augmentation factor to balance the data\n",
    "augmentation_factor = max(num_fake_images, num_real_images) // min(num_fake_images, num_real_images)\n",
    "\n",
    "# Data augmentation\n",
    "datagen = ImageDataGenerator(\n",
    "    rotation_range=20,\n",
    "    width_shift_range=0.2,\n",
    "    height_shift_range=0.2,\n",
    "    shear_range=0.2,\n",
    "    zoom_range=0.2,\n",
    "    horizontal_flip=True,\n",
    "    fill_mode='nearest'\n",
    ")\n"
   ]
  },
  {
   "cell_type": "code",
   "execution_count": null,
   "id": "dadd9c51-60e0-4124-a860-63e6d5650448",
   "metadata": {},
   "outputs": [],
   "source": [
    "def augment_images(original_dir, augmented_dir, target_num_images):\n",
    "    num_original_images = len(os.listdir(original_dir))\n",
    "    num_copies_needed = target_num_images - num_original_images\n",
    "\n",
    "    for img_file in os.listdir(original_dir):\n",
    "        img_path = os.path.join(original_dir, img_file)\n",
    "        copyfile(img_path, os.path.join(augmented_dir, img_file))\n",
    "\n",
    "    img_list = os.listdir(augmented_dir)\n",
    "    while len(img_list) < target_num_images:\n",
    "        chosen_img = random.choice(img_list)\n",
    "        img_path = os.path.join(augmented_dir, chosen_img)\n",
    "        img = load_img(img_path)\n",
    "        x = img_to_array(img)\n",
    "        x = x.reshape((1,) + x.shape)\n",
    "        i = 0\n",
    "        for batch in datagen.flow(x, batch_size=1, save_to_dir=augmented_dir, save_prefix='aug', save_format='jpeg'):\n",
    "            i += 1\n",
    "            if i >= augmentation_factor:\n",
    "                break\n",
    "        img_list = os.listdir(augmented_dir)\n",
    "        "
   ]
  },
  {
   "cell_type": "code",
   "execution_count": null,
   "id": "f6d6537f",
   "metadata": {},
   "outputs": [],
   "source": [
    "# Balance the data by augmenting the minority class\n",
    "if num_fake_images < num_real_images:\n",
    "    augment_images(original_fake_dir, augmented_fake_dir, num_real_images)\n",
    "    original_fake_dir = augmented_fake_dir  \n",
    "    augment_images(original_real_dir, augmented_real_dir, num_fake_images)\n",
    "    original_real_dir = augmented_real_dir \n"
   ]
  }
 ],
 "metadata": {
  "kernelspec": {
   "display_name": "Python 3 (ipykernel)",
   "language": "python",
   "name": "python3"
  },
  "language_info": {
   "codemirror_mode": {
    "name": "ipython",
    "version": 3
   },
   "file_extension": ".py",
   "mimetype": "text/x-python",
   "name": "python",
   "nbconvert_exporter": "python",
   "pygments_lexer": "ipython3",
   "version": "3.11.5"
  }
 },
 "nbformat": 4,
 "nbformat_minor": 5
}
