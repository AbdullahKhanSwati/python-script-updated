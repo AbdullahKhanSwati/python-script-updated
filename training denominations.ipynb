{
  "cells": [
    {
      "cell_type": "code",
      "source": [
        "# from google.colab import drive\n",
        "# drive.mount('/content/drive')"
      ],
      "metadata": {
        "id": "UdNdx3yUGbhJ"
      },
      "id": "UdNdx3yUGbhJ",
      "execution_count": 1,
      "outputs": []
    },
    {
      "cell_type": "code",
      "source": [
        "import torch\n",
        "import torch.nn as nn\n",
        "import torch.optim as optim\n",
        "from torch.utils.data import DataLoader, random_split\n",
        "from torchvision import datasets, transforms\n",
        "import os\n",
        "from tqdm import tqdm\n"
      ],
      "metadata": {
        "id": "ZxlH4cVFJgsQ"
      },
      "id": "ZxlH4cVFJgsQ",
      "execution_count": 2,
      "outputs": []
    },
    {
      "cell_type": "code",
      "source": [
        "# Check for GPU\n",
        "device = torch.device('cuda' if torch.cuda.is_available() else 'cpu')\n",
        "print(\"Using device:\", device)\n",
        "\n",
        "# Configure PyTorch to use the GPU\n",
        "if torch.cuda.is_available():\n",
        "    torch.backends.cudnn.benchmark = True\n",
        ""
      ],
      "metadata": {
        "colab": {
          "base_uri": "https://localhost:8080/"
        },
        "id": "CmaVh8rQJh1i",
        "outputId": "c4e61cb8-81d4-4792-b05e-be09d83cdf68"
      },
      "id": "CmaVh8rQJh1i",
      "execution_count": 3,
      "outputs": [
        {
          "output_type": "stream",
          "name": "stdout",
          "text": [
            "Using device: cuda\n"
          ]
        }
      ]
    },
    {
      "cell_type": "code",
      "source": [
        "# Define image dimensions and other parameters\n",
        "image_height = 256\n",
        "image_width = 256\n",
        "batch_size = 256\n",
        "epochs = 50\n",
        "validation_split = 0.2\n",
        "learning_rate = 0.0003\n"
      ],
      "metadata": {
        "id": "W-A5h_ZPJkXp"
      },
      "id": "W-A5h_ZPJkXp",
      "execution_count": 4,
      "outputs": []
    },
    {
      "cell_type": "code",
      "source": [
        "# Define the CNN architecture\n",
        "class CNN(nn.Module):\n",
        "    def __init__(self):\n",
        "        super(CNN, self).__init__()\n",
        "        self.conv1 = nn.Conv2d(3, 32, kernel_size=3, stride=1, padding=1)\n",
        "        self.pool = nn.MaxPool2d(kernel_size=2, stride=2, padding=0)\n",
        "        self.conv2 = nn.Conv2d(32, 64, kernel_size=3, stride=1, padding=1)\n",
        "        self.conv3 = nn.Conv2d(64, 128, kernel_size=3, stride=1, padding=1)\n",
        "        self.flatten = nn.Flatten()\n",
        "        self.fc1 = nn.Linear(128 * (image_height // 8) * (image_width // 8), 128)\n",
        "        self.dropout = nn.Dropout(0.5)\n",
        "        self.fc2 = nn.Linear(128, 7)\n",
        "\n",
        "    def forward(self, x):\n",
        "        x = torch.relu(self.conv1(x))\n",
        "        x = self.pool(x)\n",
        "        x = torch.relu(self.conv2(x))\n",
        "        x = self.pool(x)\n",
        "        x = torch.relu(self.conv3(x))\n",
        "        x = self.pool(x)\n",
        "        x = self.flatten(x)\n",
        "        x = torch.relu(self.fc1(x))\n",
        "        x = self.dropout(x)\n",
        "        x = torch.softmax(self.fc2(x), dim=1)\n",
        "        return x\n",
        ""
      ],
      "metadata": {
        "id": "cZWu1XEHJmUK"
      },
      "id": "cZWu1XEHJmUK",
      "execution_count": 5,
      "outputs": []
    },
    {
      "cell_type": "code",
      "source": [
        "model = CNN().to(device)\n",
        "\n",
        "# Define optimizer and loss function\n",
        "optimizer = optim.Adam(model.parameters(), lr=learning_rate)\n",
        "criterion = nn.CrossEntropyLoss()\n",
        "\n",
        "# Data preprocessing and augmentation\n",
        "data_transforms = transforms.Compose([\n",
        "    transforms.Resize((image_height, image_width)),\n",
        "    transforms.RandomHorizontalFlip(),\n",
        "    transforms.RandomResizedCrop((image_height, image_width), scale=(0.8, 1.0)),\n",
        "    transforms.ToTensor(),\n",
        "    transforms.Normalize([0.485, 0.456, 0.406], [0.229, 0.224, 0.225])\n",
        "])\n"
      ],
      "metadata": {
        "id": "uwXc8BrVJrj2"
      },
      "id": "uwXc8BrVJrj2",
      "execution_count": 6,
      "outputs": []
    },
    {
      "cell_type": "code",
      "source": [
        "# Load images from the 'denominations' folder with subdirectories\n",
        "data_dir = '/content/drive/MyDrive/denominations'\n",
        "full_dataset = datasets.ImageFolder(data_dir, transform=data_transforms)\n",
        "\n",
        "# Create train and validation split\n",
        "num_train = int((1 - validation_split) * len(full_dataset))\n",
        "num_val = len(full_dataset) - num_train\n",
        "train_dataset, val_dataset = random_split(full_dataset, [num_train, num_val])\n",
        "\n",
        "# Create data loaders\n",
        "train_loader = DataLoader(train_dataset, batch_size=batch_size, shuffle=True, num_workers=2, pin_memory=True)\n",
        "val_loader = DataLoader(val_dataset, batch_size=batch_size, shuffle=False, num_workers=2, pin_memory=True)\n"
      ],
      "metadata": {
        "id": "BFDKZv9fJwIn"
      },
      "id": "BFDKZv9fJwIn",
      "execution_count": 7,
      "outputs": []
    },
    {
      "cell_type": "code",
      "execution_count": 8,
      "id": "620ec430",
      "metadata": {
        "colab": {
          "base_uri": "https://localhost:8080/"
        },
        "id": "620ec430",
        "outputId": "32b05e56-302d-4ae9-931e-34b31dc988f1"
      },
      "outputs": [
        {
          "output_type": "stream",
          "name": "stderr",
          "text": [
            "\rTraining:   0%|          | 0/50 [00:00<?, ?it/s]"
          ]
        },
        {
          "output_type": "stream",
          "name": "stdout",
          "text": [
            "\n",
            "Epoch 0/49, Loss: 1.9379, Accuracy: 0.1756\n",
            "\n",
            "Validation Loss: 1.9140, Validation Accuracy: 0.2061\n"
          ]
        },
        {
          "output_type": "stream",
          "name": "stderr",
          "text": [
            "\rTraining:   2%|▏         | 1/50 [00:54<44:44, 54.79s/it]"
          ]
        },
        {
          "output_type": "stream",
          "name": "stdout",
          "text": [
            "\n",
            "Best model saved with validation accuracy: 0.2061\n",
            "\n",
            "Epoch 1/49, Loss: 1.8824, Accuracy: 0.2548\n",
            "\n",
            "Validation Loss: 1.8615, Validation Accuracy: 0.2739\n"
          ]
        },
        {
          "output_type": "stream",
          "name": "stderr",
          "text": [
            "\rTraining:   4%|▍         | 2/50 [01:36<37:40, 47.09s/it]"
          ]
        },
        {
          "output_type": "stream",
          "name": "stdout",
          "text": [
            "\n",
            "Best model saved with validation accuracy: 0.2739\n",
            "\n",
            "Epoch 2/49, Loss: 1.8439, Accuracy: 0.3085\n",
            "\n",
            "Validation Loss: 1.8206, Validation Accuracy: 0.3347\n"
          ]
        },
        {
          "output_type": "stream",
          "name": "stderr",
          "text": [
            "\rTraining:   6%|▌         | 3/50 [02:19<35:25, 45.21s/it]"
          ]
        },
        {
          "output_type": "stream",
          "name": "stdout",
          "text": [
            "\n",
            "Best model saved with validation accuracy: 0.3347\n",
            "\n",
            "Epoch 3/49, Loss: 1.8129, Accuracy: 0.3393\n",
            "\n",
            "Validation Loss: 1.7834, Validation Accuracy: 0.3651\n"
          ]
        },
        {
          "output_type": "stream",
          "name": "stderr",
          "text": [
            "\rTraining:   8%|▊         | 4/50 [03:01<33:46, 44.06s/it]"
          ]
        },
        {
          "output_type": "stream",
          "name": "stdout",
          "text": [
            "\n",
            "Best model saved with validation accuracy: 0.3651\n",
            "\n",
            "Epoch 4/49, Loss: 1.7876, Accuracy: 0.3646\n",
            "\n",
            "Validation Loss: 1.7645, Validation Accuracy: 0.3873\n"
          ]
        },
        {
          "output_type": "stream",
          "name": "stderr",
          "text": [
            "\rTraining:  10%|█         | 5/50 [03:44<32:46, 43.70s/it]"
          ]
        },
        {
          "output_type": "stream",
          "name": "stdout",
          "text": [
            "\n",
            "Best model saved with validation accuracy: 0.3873\n",
            "\n",
            "Epoch 5/49, Loss: 1.7447, Accuracy: 0.4276\n",
            "\n",
            "Validation Loss: 1.6821, Validation Accuracy: 0.5104\n"
          ]
        },
        {
          "output_type": "stream",
          "name": "stderr",
          "text": [
            "\rTraining:  12%|█▏        | 6/50 [04:27<31:40, 43.20s/it]"
          ]
        },
        {
          "output_type": "stream",
          "name": "stdout",
          "text": [
            "\n",
            "Best model saved with validation accuracy: 0.5104\n",
            "\n",
            "Epoch 6/49, Loss: 1.7004, Accuracy: 0.4706\n"
          ]
        },
        {
          "output_type": "stream",
          "name": "stderr",
          "text": [
            "\rTraining:  14%|█▍        | 7/50 [05:09<30:40, 42.80s/it]"
          ]
        },
        {
          "output_type": "stream",
          "name": "stdout",
          "text": [
            "\n",
            "Validation Loss: 1.6731, Validation Accuracy: 0.4979\n",
            "\n",
            "Epoch 7/49, Loss: 1.6801, Accuracy: 0.4927\n",
            "\n",
            "Validation Loss: 1.6166, Validation Accuracy: 0.5615\n"
          ]
        },
        {
          "output_type": "stream",
          "name": "stderr",
          "text": [
            "\rTraining:  16%|█▌        | 8/50 [05:50<29:35, 42.28s/it]"
          ]
        },
        {
          "output_type": "stream",
          "name": "stdout",
          "text": [
            "\n",
            "Best model saved with validation accuracy: 0.5615\n",
            "\n",
            "Epoch 8/49, Loss: 1.6403, Accuracy: 0.5409\n",
            "\n",
            "Validation Loss: 1.5795, Validation Accuracy: 0.5989\n"
          ]
        },
        {
          "output_type": "stream",
          "name": "stderr",
          "text": [
            "\rTraining:  18%|█▊        | 9/50 [06:32<28:52, 42.25s/it]"
          ]
        },
        {
          "output_type": "stream",
          "name": "stdout",
          "text": [
            "\n",
            "Best model saved with validation accuracy: 0.5989\n",
            "\n",
            "Epoch 9/49, Loss: 1.6094, Accuracy: 0.5648\n",
            "\n",
            "Validation Loss: 1.5589, Validation Accuracy: 0.6155\n"
          ]
        },
        {
          "output_type": "stream",
          "name": "stderr",
          "text": [
            "\rTraining:  20%|██        | 10/50 [07:14<28:13, 42.33s/it]"
          ]
        },
        {
          "output_type": "stream",
          "name": "stdout",
          "text": [
            "\n",
            "Best model saved with validation accuracy: 0.6155\n",
            "\n",
            "Epoch 10/49, Loss: 1.5814, Accuracy: 0.5973\n",
            "\n",
            "Validation Loss: 1.5375, Validation Accuracy: 0.6432\n"
          ]
        },
        {
          "output_type": "stream",
          "name": "stderr",
          "text": [
            "\rTraining:  22%|██▏       | 11/50 [07:56<27:27, 42.25s/it]"
          ]
        },
        {
          "output_type": "stream",
          "name": "stdout",
          "text": [
            "\n",
            "Best model saved with validation accuracy: 0.6432\n",
            "\n",
            "Epoch 11/49, Loss: 1.5616, Accuracy: 0.6170\n",
            "\n",
            "Validation Loss: 1.5161, Validation Accuracy: 0.6653\n"
          ]
        },
        {
          "output_type": "stream",
          "name": "stderr",
          "text": [
            "\rTraining:  24%|██▍       | 12/50 [08:39<26:47, 42.31s/it]"
          ]
        },
        {
          "output_type": "stream",
          "name": "stdout",
          "text": [
            "\n",
            "Best model saved with validation accuracy: 0.6653\n",
            "\n",
            "Epoch 12/49, Loss: 1.5437, Accuracy: 0.6361\n",
            "\n",
            "Validation Loss: 1.5095, Validation Accuracy: 0.6708\n"
          ]
        },
        {
          "output_type": "stream",
          "name": "stderr",
          "text": [
            "\rTraining:  26%|██▌       | 13/50 [09:22<26:12, 42.49s/it]"
          ]
        },
        {
          "output_type": "stream",
          "name": "stdout",
          "text": [
            "\n",
            "Best model saved with validation accuracy: 0.6708\n",
            "\n",
            "Epoch 13/49, Loss: 1.5239, Accuracy: 0.6589\n"
          ]
        },
        {
          "output_type": "stream",
          "name": "stderr",
          "text": [
            "\rTraining:  28%|██▊       | 14/50 [10:03<25:18, 42.17s/it]"
          ]
        },
        {
          "output_type": "stream",
          "name": "stdout",
          "text": [
            "\n",
            "Validation Loss: 1.5207, Validation Accuracy: 0.6418\n",
            "\n",
            "Epoch 14/49, Loss: 1.5163, Accuracy: 0.6603\n",
            "\n",
            "Validation Loss: 1.4906, Validation Accuracy: 0.6902\n"
          ]
        },
        {
          "output_type": "stream",
          "name": "stderr",
          "text": [
            "\rTraining:  30%|███       | 15/50 [10:45<24:31, 42.05s/it]"
          ]
        },
        {
          "output_type": "stream",
          "name": "stdout",
          "text": [
            "\n",
            "Best model saved with validation accuracy: 0.6902\n",
            "\n",
            "Epoch 15/49, Loss: 1.4994, Accuracy: 0.6863\n",
            "\n",
            "Validation Loss: 1.4551, Validation Accuracy: 0.7206\n"
          ]
        },
        {
          "output_type": "stream",
          "name": "stderr",
          "text": [
            "\rTraining:  32%|███▏      | 16/50 [11:28<23:56, 42.25s/it]"
          ]
        },
        {
          "output_type": "stream",
          "name": "stdout",
          "text": [
            "\n",
            "Best model saved with validation accuracy: 0.7206\n",
            "\n",
            "Epoch 16/49, Loss: 1.4801, Accuracy: 0.7029\n",
            "\n",
            "Validation Loss: 1.4417, Validation Accuracy: 0.7414\n"
          ]
        },
        {
          "output_type": "stream",
          "name": "stderr",
          "text": [
            "\rTraining:  34%|███▍      | 17/50 [12:10<23:10, 42.14s/it]"
          ]
        },
        {
          "output_type": "stream",
          "name": "stdout",
          "text": [
            "\n",
            "Best model saved with validation accuracy: 0.7414\n",
            "\n",
            "Epoch 17/49, Loss: 1.4669, Accuracy: 0.7095\n",
            "\n",
            "Validation Loss: 1.4346, Validation Accuracy: 0.7524\n"
          ]
        },
        {
          "output_type": "stream",
          "name": "stderr",
          "text": [
            "\rTraining:  36%|███▌      | 18/50 [12:53<22:44, 42.63s/it]"
          ]
        },
        {
          "output_type": "stream",
          "name": "stdout",
          "text": [
            "\n",
            "Best model saved with validation accuracy: 0.7524\n",
            "\n",
            "Epoch 18/49, Loss: 1.4591, Accuracy: 0.7251\n"
          ]
        },
        {
          "output_type": "stream",
          "name": "stderr",
          "text": [
            "\rTraining:  38%|███▊      | 19/50 [13:36<22:03, 42.69s/it]"
          ]
        },
        {
          "output_type": "stream",
          "name": "stdout",
          "text": [
            "\n",
            "Validation Loss: 1.4397, Validation Accuracy: 0.7372\n",
            "\n",
            "Epoch 19/49, Loss: 1.4496, Accuracy: 0.7296\n"
          ]
        },
        {
          "output_type": "stream",
          "name": "stderr",
          "text": [
            "\rTraining:  40%|████      | 20/50 [14:19<21:17, 42.57s/it]"
          ]
        },
        {
          "output_type": "stream",
          "name": "stdout",
          "text": [
            "\n",
            "Validation Loss: 1.4246, Validation Accuracy: 0.7524\n",
            "\n",
            "Epoch 20/49, Loss: 1.4372, Accuracy: 0.7448\n"
          ]
        },
        {
          "output_type": "stream",
          "name": "stderr",
          "text": [
            "\rTraining:  42%|████▏     | 21/50 [15:00<20:26, 42.31s/it]"
          ]
        },
        {
          "output_type": "stream",
          "name": "stdout",
          "text": [
            "\n",
            "Validation Loss: 1.4233, Validation Accuracy: 0.7524\n",
            "\n",
            "Epoch 21/49, Loss: 1.4374, Accuracy: 0.7413\n",
            "\n",
            "Validation Loss: 1.4195, Validation Accuracy: 0.7580\n"
          ]
        },
        {
          "output_type": "stream",
          "name": "stderr",
          "text": [
            "\rTraining:  44%|████▍     | 22/50 [15:42<19:39, 42.11s/it]"
          ]
        },
        {
          "output_type": "stream",
          "name": "stdout",
          "text": [
            "\n",
            "Best model saved with validation accuracy: 0.7580\n",
            "\n",
            "Epoch 22/49, Loss: 1.4203, Accuracy: 0.7597\n",
            "\n",
            "Validation Loss: 1.3963, Validation Accuracy: 0.7842\n"
          ]
        },
        {
          "output_type": "stream",
          "name": "stderr",
          "text": [
            "\rTraining:  46%|████▌     | 23/50 [16:25<19:02, 42.33s/it]"
          ]
        },
        {
          "output_type": "stream",
          "name": "stdout",
          "text": [
            "\n",
            "Best model saved with validation accuracy: 0.7842\n",
            "\n",
            "Epoch 23/49, Loss: 1.4184, Accuracy: 0.7645\n"
          ]
        },
        {
          "output_type": "stream",
          "name": "stderr",
          "text": [
            "\rTraining:  48%|████▊     | 24/50 [17:09<18:32, 42.78s/it]"
          ]
        },
        {
          "output_type": "stream",
          "name": "stdout",
          "text": [
            "\n",
            "Validation Loss: 1.3892, Validation Accuracy: 0.7787\n",
            "\n",
            "Epoch 24/49, Loss: 1.4093, Accuracy: 0.7704\n"
          ]
        },
        {
          "output_type": "stream",
          "name": "stderr",
          "text": [
            "\rTraining:  50%|█████     | 25/50 [17:50<17:43, 42.53s/it]"
          ]
        },
        {
          "output_type": "stream",
          "name": "stdout",
          "text": [
            "\n",
            "Validation Loss: 1.3966, Validation Accuracy: 0.7676\n",
            "\n",
            "Epoch 25/49, Loss: 1.4133, Accuracy: 0.7666\n"
          ]
        },
        {
          "output_type": "stream",
          "name": "stderr",
          "text": [
            "\rTraining:  52%|█████▏    | 26/50 [18:33<16:58, 42.43s/it]"
          ]
        },
        {
          "output_type": "stream",
          "name": "stdout",
          "text": [
            "\n",
            "Validation Loss: 1.4325, Validation Accuracy: 0.7289\n",
            "\n",
            "Epoch 26/49, Loss: 1.4164, Accuracy: 0.7566\n"
          ]
        },
        {
          "output_type": "stream",
          "name": "stderr",
          "text": [
            "\rTraining:  54%|█████▍    | 27/50 [19:15<16:14, 42.35s/it]"
          ]
        },
        {
          "output_type": "stream",
          "name": "stdout",
          "text": [
            "\n",
            "Validation Loss: 1.4240, Validation Accuracy: 0.7524\n",
            "\n",
            "Epoch 27/49, Loss: 1.4131, Accuracy: 0.7697\n",
            "\n",
            "Validation Loss: 1.3851, Validation Accuracy: 0.7953\n"
          ]
        },
        {
          "output_type": "stream",
          "name": "stderr",
          "text": [
            "\rTraining:  56%|█████▌    | 28/50 [19:58<15:35, 42.51s/it]"
          ]
        },
        {
          "output_type": "stream",
          "name": "stdout",
          "text": [
            "\n",
            "Best model saved with validation accuracy: 0.7953\n",
            "\n",
            "Epoch 28/49, Loss: 1.3840, Accuracy: 0.7933\n"
          ]
        },
        {
          "output_type": "stream",
          "name": "stderr",
          "text": [
            "\rTraining:  58%|█████▊    | 29/50 [20:40<14:48, 42.33s/it]"
          ]
        },
        {
          "output_type": "stream",
          "name": "stdout",
          "text": [
            "\n",
            "Validation Loss: 1.3886, Validation Accuracy: 0.7759\n",
            "\n",
            "Epoch 29/49, Loss: 1.3853, Accuracy: 0.7891\n"
          ]
        },
        {
          "output_type": "stream",
          "name": "stderr",
          "text": [
            "\rTraining:  60%|██████    | 30/50 [21:21<14:02, 42.14s/it]"
          ]
        },
        {
          "output_type": "stream",
          "name": "stdout",
          "text": [
            "\n",
            "Validation Loss: 1.3857, Validation Accuracy: 0.7828\n",
            "\n",
            "Epoch 30/49, Loss: 1.3754, Accuracy: 0.8006\n",
            "\n",
            "Validation Loss: 1.3628, Validation Accuracy: 0.8119\n"
          ]
        },
        {
          "output_type": "stream",
          "name": "stderr",
          "text": [
            "\rTraining:  62%|██████▏   | 31/50 [22:03<13:18, 42.03s/it]"
          ]
        },
        {
          "output_type": "stream",
          "name": "stdout",
          "text": [
            "\n",
            "Best model saved with validation accuracy: 0.8119\n",
            "\n",
            "Epoch 31/49, Loss: 1.3716, Accuracy: 0.8071\n"
          ]
        },
        {
          "output_type": "stream",
          "name": "stderr",
          "text": [
            "\rTraining:  64%|██████▍   | 32/50 [22:45<12:37, 42.06s/it]"
          ]
        },
        {
          "output_type": "stream",
          "name": "stdout",
          "text": [
            "\n",
            "Validation Loss: 1.3633, Validation Accuracy: 0.8105\n",
            "\n",
            "Epoch 32/49, Loss: 1.3659, Accuracy: 0.8123\n"
          ]
        },
        {
          "output_type": "stream",
          "name": "stderr",
          "text": [
            "\rTraining:  66%|██████▌   | 33/50 [23:27<11:54, 42.06s/it]"
          ]
        },
        {
          "output_type": "stream",
          "name": "stdout",
          "text": [
            "\n",
            "Validation Loss: 1.3733, Validation Accuracy: 0.7967\n",
            "\n",
            "Epoch 33/49, Loss: 1.3506, Accuracy: 0.8286\n"
          ]
        },
        {
          "output_type": "stream",
          "name": "stderr",
          "text": [
            "\rTraining:  68%|██████▊   | 34/50 [24:09<11:13, 42.09s/it]"
          ]
        },
        {
          "output_type": "stream",
          "name": "stdout",
          "text": [
            "\n",
            "Validation Loss: 1.3711, Validation Accuracy: 0.7967\n",
            "\n",
            "Epoch 34/49, Loss: 1.3534, Accuracy: 0.8283\n"
          ]
        },
        {
          "output_type": "stream",
          "name": "stderr",
          "text": [
            "\rTraining:  70%|███████   | 35/50 [24:51<10:29, 41.95s/it]"
          ]
        },
        {
          "output_type": "stream",
          "name": "stdout",
          "text": [
            "\n",
            "Validation Loss: 1.3686, Validation Accuracy: 0.8008\n",
            "\n",
            "Epoch 35/49, Loss: 1.3516, Accuracy: 0.8262\n"
          ]
        },
        {
          "output_type": "stream",
          "name": "stderr",
          "text": [
            "\rTraining:  72%|███████▏  | 36/50 [25:33<09:48, 42.04s/it]"
          ]
        },
        {
          "output_type": "stream",
          "name": "stdout",
          "text": [
            "\n",
            "Validation Loss: 1.3602, Validation Accuracy: 0.8036\n",
            "\n",
            "Epoch 36/49, Loss: 1.3466, Accuracy: 0.8338\n",
            "\n",
            "Validation Loss: 1.3535, Validation Accuracy: 0.8202\n"
          ]
        },
        {
          "output_type": "stream",
          "name": "stderr",
          "text": [
            "\rTraining:  74%|███████▍  | 37/50 [26:16<09:08, 42.16s/it]"
          ]
        },
        {
          "output_type": "stream",
          "name": "stdout",
          "text": [
            "\n",
            "Best model saved with validation accuracy: 0.8202\n",
            "\n",
            "Epoch 37/49, Loss: 1.3485, Accuracy: 0.8303\n"
          ]
        },
        {
          "output_type": "stream",
          "name": "stderr",
          "text": [
            "\rTraining:  76%|███████▌  | 38/50 [26:59<08:28, 42.35s/it]"
          ]
        },
        {
          "output_type": "stream",
          "name": "stdout",
          "text": [
            "\n",
            "Validation Loss: 1.3531, Validation Accuracy: 0.8160\n",
            "\n",
            "Epoch 38/49, Loss: 1.3341, Accuracy: 0.8452\n",
            "\n",
            "Validation Loss: 1.3430, Validation Accuracy: 0.8271\n"
          ]
        },
        {
          "output_type": "stream",
          "name": "stderr",
          "text": [
            "\rTraining:  78%|███████▊  | 39/50 [27:41<07:47, 42.50s/it]"
          ]
        },
        {
          "output_type": "stream",
          "name": "stdout",
          "text": [
            "\n",
            "Best model saved with validation accuracy: 0.8271\n",
            "\n",
            "Epoch 39/49, Loss: 1.3458, Accuracy: 0.8307\n"
          ]
        },
        {
          "output_type": "stream",
          "name": "stderr",
          "text": [
            "\rTraining:  80%|████████  | 40/50 [28:24<07:05, 42.54s/it]"
          ]
        },
        {
          "output_type": "stream",
          "name": "stdout",
          "text": [
            "\n",
            "Validation Loss: 1.3509, Validation Accuracy: 0.8105\n",
            "\n",
            "Epoch 40/49, Loss: 1.3264, Accuracy: 0.8535\n",
            "\n",
            "Validation Loss: 1.3383, Validation Accuracy: 0.8368\n"
          ]
        },
        {
          "output_type": "stream",
          "name": "stderr",
          "text": [
            "\rTraining:  82%|████████▏ | 41/50 [29:07<06:24, 42.69s/it]"
          ]
        },
        {
          "output_type": "stream",
          "name": "stdout",
          "text": [
            "\n",
            "Best model saved with validation accuracy: 0.8368\n",
            "\n",
            "Epoch 41/49, Loss: 1.3258, Accuracy: 0.8532\n",
            "\n",
            "Validation Loss: 1.3283, Validation Accuracy: 0.8437\n"
          ]
        },
        {
          "output_type": "stream",
          "name": "stderr",
          "text": [
            "\rTraining:  84%|████████▍ | 42/50 [29:50<05:42, 42.86s/it]"
          ]
        },
        {
          "output_type": "stream",
          "name": "stdout",
          "text": [
            "\n",
            "Best model saved with validation accuracy: 0.8437\n",
            "\n",
            "Epoch 42/49, Loss: 1.3192, Accuracy: 0.8618\n"
          ]
        },
        {
          "output_type": "stream",
          "name": "stderr",
          "text": [
            "\rTraining:  86%|████████▌ | 43/50 [30:32<04:58, 42.60s/it]"
          ]
        },
        {
          "output_type": "stream",
          "name": "stdout",
          "text": [
            "\n",
            "Validation Loss: 1.3417, Validation Accuracy: 0.8340\n",
            "\n",
            "Epoch 43/49, Loss: 1.3269, Accuracy: 0.8528\n"
          ]
        },
        {
          "output_type": "stream",
          "name": "stderr",
          "text": [
            "\rTraining:  88%|████████▊ | 44/50 [31:15<04:15, 42.56s/it]"
          ]
        },
        {
          "output_type": "stream",
          "name": "stdout",
          "text": [
            "\n",
            "Validation Loss: 1.3350, Validation Accuracy: 0.8396\n",
            "\n",
            "Epoch 44/49, Loss: 1.3366, Accuracy: 0.8386\n"
          ]
        },
        {
          "output_type": "stream",
          "name": "stderr",
          "text": [
            "\rTraining:  90%|█████████ | 45/50 [31:57<03:32, 42.49s/it]"
          ]
        },
        {
          "output_type": "stream",
          "name": "stdout",
          "text": [
            "\n",
            "Validation Loss: 1.3498, Validation Accuracy: 0.8147\n",
            "\n",
            "Epoch 45/49, Loss: 1.3342, Accuracy: 0.8386\n"
          ]
        },
        {
          "output_type": "stream",
          "name": "stderr",
          "text": [
            "\rTraining:  92%|█████████▏| 46/50 [32:39<02:49, 42.39s/it]"
          ]
        },
        {
          "output_type": "stream",
          "name": "stdout",
          "text": [
            "\n",
            "Validation Loss: 1.3331, Validation Accuracy: 0.8326\n",
            "\n",
            "Epoch 46/49, Loss: 1.3124, Accuracy: 0.8653\n",
            "\n",
            "Validation Loss: 1.3239, Validation Accuracy: 0.8479\n"
          ]
        },
        {
          "output_type": "stream",
          "name": "stderr",
          "text": [
            "\rTraining:  94%|█████████▍| 47/50 [33:22<02:07, 42.54s/it]"
          ]
        },
        {
          "output_type": "stream",
          "name": "stdout",
          "text": [
            "\n",
            "Best model saved with validation accuracy: 0.8479\n",
            "\n",
            "Epoch 47/49, Loss: 1.3059, Accuracy: 0.8691\n",
            "\n",
            "Validation Loss: 1.3138, Validation Accuracy: 0.8603\n"
          ]
        },
        {
          "output_type": "stream",
          "name": "stderr",
          "text": [
            "\rTraining:  96%|█████████▌| 48/50 [34:05<01:25, 42.62s/it]"
          ]
        },
        {
          "output_type": "stream",
          "name": "stdout",
          "text": [
            "\n",
            "Best model saved with validation accuracy: 0.8603\n",
            "\n",
            "Epoch 48/49, Loss: 1.3046, Accuracy: 0.8760\n"
          ]
        },
        {
          "output_type": "stream",
          "name": "stderr",
          "text": [
            "\rTraining:  98%|█████████▊| 49/50 [34:48<00:42, 42.74s/it]"
          ]
        },
        {
          "output_type": "stream",
          "name": "stdout",
          "text": [
            "\n",
            "Validation Loss: 1.3281, Validation Accuracy: 0.8520\n",
            "\n",
            "Epoch 49/49, Loss: 1.2968, Accuracy: 0.8854\n"
          ]
        },
        {
          "output_type": "stream",
          "name": "stderr",
          "text": [
            "Training: 100%|██████████| 50/50 [35:31<00:00, 42.63s/it]"
          ]
        },
        {
          "output_type": "stream",
          "name": "stdout",
          "text": [
            "\n",
            "Validation Loss: 1.3336, Validation Accuracy: 0.8313\n",
            "\n",
            "Best validation accuracy: 0.8603\n"
          ]
        },
        {
          "output_type": "stream",
          "name": "stderr",
          "text": [
            "\n"
          ]
        }
      ],
      "source": [
        "# Initialize best accuracy\n",
        "best_val_acc = 0.0\n",
        "\n",
        "# Training the model\n",
        "for epoch in tqdm(range(epochs), desc=f\"Training\"):\n",
        "    model.train()\n",
        "    running_loss = 0.0\n",
        "    running_corrects = 0\n",
        "\n",
        "    for inputs, labels in train_loader:\n",
        "        inputs, labels = inputs.to(device, non_blocking=True), labels.to(device, non_blocking=True)\n",
        "\n",
        "        optimizer.zero_grad()\n",
        "\n",
        "        outputs = model(inputs)\n",
        "        loss = criterion(outputs, labels)\n",
        "        _, preds = torch.max(outputs, 1)\n",
        "        loss.backward()\n",
        "        optimizer.step()\n",
        "\n",
        "        running_loss += loss.item() * inputs.size(0)\n",
        "        running_corrects += torch.sum(preds == labels.data)\n",
        "\n",
        "    epoch_loss = running_loss / len(train_loader.dataset)\n",
        "    epoch_acc = running_corrects.double() / len(train_loader.dataset)\n",
        "\n",
        "    print(f'\\nEpoch {epoch}/{epochs - 1}, Loss: {epoch_loss:.4f}, Accuracy: {epoch_acc:.4f}')\n",
        "\n",
        "    # Validation phase\n",
        "    model.eval()\n",
        "    val_running_loss = 0.0\n",
        "    val_running_corrects = 0\n",
        "\n",
        "    with torch.no_grad():\n",
        "        for inputs, labels in val_loader:\n",
        "            inputs, labels = inputs.to(device, non_blocking=True), labels.to(device, non_blocking=True)\n",
        "\n",
        "            outputs = model(inputs)\n",
        "            loss = criterion(outputs, labels)\n",
        "            _, preds = torch.max(outputs, 1)\n",
        "\n",
        "            val_running_loss += loss.item() * inputs.size(0)\n",
        "            val_running_corrects += torch.sum(preds == labels.data)\n",
        "\n",
        "    val_epoch_loss = val_running_loss / len(val_loader.dataset)\n",
        "    val_epoch_acc = val_running_corrects.double() / len(val_loader.dataset)\n",
        "\n",
        "    print(f'\\nValidation Loss: {val_epoch_loss:.4f}, Validation Accuracy: {val_epoch_acc:.4f}')\n",
        "\n",
        "    # Check if this is the best model so far\n",
        "    if val_epoch_acc > best_val_acc:\n",
        "        best_val_acc = val_epoch_acc\n",
        "        torch.save(model.state_dict(), '/content/drive/MyDrive/FK Models/best_model.pth')\n",
        "        print(f'\\nBest model saved with validation accuracy: {best_val_acc:.4f}')\n",
        "\n",
        "print(f'\\nBest validation accuracy: {best_val_acc:.4f}')"
      ]
    }
  ],
  "metadata": {
    "kernelspec": {
      "display_name": "Python 3",
      "name": "python3"
    },
    "language_info": {
      "codemirror_mode": {
        "name": "ipython",
        "version": 3
      },
      "file_extension": ".py",
      "mimetype": "text/x-python",
      "name": "python",
      "nbconvert_exporter": "python",
      "pygments_lexer": "ipython3",
      "version": "3.11.7"
    },
    "colab": {
      "provenance": [],
      "gpuType": "T4"
    },
    "accelerator": "GPU"
  },
  "nbformat": 4,
  "nbformat_minor": 5
}