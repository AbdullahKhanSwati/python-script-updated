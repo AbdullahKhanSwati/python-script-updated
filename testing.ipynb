{
 "cells": [
  {
   "cell_type": "code",
   "execution_count": 16,
   "id": "1f2b178f",
   "metadata": {},
   "outputs": [
    {
     "name": "stdout",
     "output_type": "stream",
     "text": [
      "{'error': '400 Bad Request: The browser (or proxy) sent a request that this server could not understand.'}\n"
     ]
    }
   ],
   "source": [
    "import requests\n",
    "\n",
    "url = 'http://127.0.0.1:5000/predict'\n",
    "\n",
    "image_path = 'C:/Users/Nabeel Ahmad/Documents/Backend/dataset/real/CamScanner 06-16-2024 02.24_35.jpg'\n",
    "\n",
    "# Prepare headers with 'Content-Type: application/json' (if required)\n",
    "headers = {'Content-Type': 'application/json'}\n",
    "\n",
    "# Prepare data as JSON (if required)\n",
    "data = {'key': 'value'}\n",
    "\n",
    "# Open the image file in binary mode\n",
    "files = {'image': open(image_path, 'rb')}\n",
    "\n",
    "# Send the POST request with headers and data (if any)\n",
    "response = requests.post(url, headers=headers, files=files)\n",
    "\n",
    "# Check the response status code and handle accordingly\n",
    "if response.status_code == 200:\n",
    "    print(response.json())\n",
    "else:\n",
    "    print(f\"Error: {response.status_code} - {response.text}\")\n"
   ]
  },
  {
   "cell_type": "code",
   "execution_count": 17,
   "metadata": {},
   "outputs": [],
   "source": [
    "# import os\n",
    "# import random\n",
    "# import requests\n",
    "\n",
    "# # Flask API endpoint URL\n",
    "# url = 'http://127.0.0.1:5000/predict'\n",
    "\n",
    "# # Main folder path containing subfolders\n",
    "# main_folder = 'denominations/'\n",
    "\n",
    "# # List of subfolders (each representing a denomination)\n",
    "# subfolders = [folder for folder in os.listdir(main_folder) if os.path.isdir(os.path.join(main_folder, folder))]\n",
    "\n",
    "# # Initialize a list to store randomly selected image paths\n",
    "# selected_images = []\n",
    "\n",
    "# # Randomly select 50 images from subfolders\n",
    "# for subfolder in subfolders:\n",
    "#     images_folder = os.path.join(main_folder, subfolder)\n",
    "#     images = [os.path.join(images_folder, img) for img in os.listdir(images_folder) if img.endswith('.jpg')]\n",
    "#     selected_images.extend(random.sample(images, min(50, len(images))))\n",
    "\n",
    "# correct_count = 0\n",
    "# # Test each selected image\n",
    "# for image_path in selected_images:\n",
    "#     files = {'image': open(image_path, 'rb')}\n",
    "#     response = requests.post(url, files=files)\n",
    "\n",
    "#     if response.status_code == 200:\n",
    "#         denomination = image_path.split('/')[1]\n",
    "#         if denomination == response.json()['denomination']:\n",
    "#             correct_count += 1\n",
    "#     else:\n",
    "#         print(f\"Error processing {image_path}: {response.status_code} - {response.text}\")\n",
    "\n",
    "# print(f\"Total correct: {correct_count} out of {len(selected_images)}\")\n"
   ]
  },
  {
   "cell_type": "code",
   "execution_count": 18,
   "id": "c924f6f7",
   "metadata": {},
   "outputs": [],
   "source": [
    "# print(f\"Accuracy: {correct_count / len(selected_images)}\")\n"
   ]
  }
 ],
 "metadata": {
  "kernelspec": {
   "display_name": "Python 3 (ipykernel)",
   "language": "python",
   "name": "python3"
  },
  "language_info": {
   "codemirror_mode": {
    "name": "ipython",
    "version": 3
   },
   "file_extension": ".py",
   "mimetype": "text/x-python",
   "name": "python",
   "nbconvert_exporter": "python",
   "pygments_lexer": "ipython3",
   "version": "3.11.2"
  }
 },
 "nbformat": 4,
 "nbformat_minor": 5
}
